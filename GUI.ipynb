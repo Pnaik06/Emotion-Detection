{
 "cells": [
  {
   "cell_type": "code",
   "execution_count": null,
   "id": "51f38c6d-f56f-4c81-b8fb-2b1e7131bb09",
   "metadata": {},
   "outputs": [],
   "source": [
    "import tkinter as tk\n",
    "from tkinter import filedialog\n",
    "from tkinter import * \n",
    "\n",
    "from tensorflow.keras.models import model_from_json\n",
    "from PIL import Image, ImageTk\n",
    "import numpy as np\n",
    "import cv2"
   ]
  },
  {
   "cell_type": "code",
   "execution_count": 2,
   "id": "256eea42-0894-45f4-a988-38946d898e9e",
   "metadata": {},
   "outputs": [],
   "source": [
    "def FacialExpressionModel(json_file,weights_file):\n",
    "    with open(json_file,\"r\") as file:\n",
    "        loaded_model_json = file.read()\n",
    "        model = model_from_json(loaded_model_json)\n",
    "    model.load_weights(weights_file)\n",
    "    model.compile(optimizer ='adam', loss='categorical_crossentropy', metrics = ['accuracy'])\n",
    "\n",
    "    return model\n"
   ]
  },
  {
   "cell_type": "code",
   "execution_count": 3,
   "id": "517a027d-02fc-4270-9192-f64546f59fc5",
   "metadata": {},
   "outputs": [],
   "source": [
    "top = tk.Tk()\n",
    "top.geometry('800x600')\n",
    "top.title('Emotion Detector')\n",
    "top.configure(background = '#CDCDCD')\n",
    "\n",
    "label1 = Label(top, background = '#CDCDCD', font = ('arial',15,'bold'))\n",
    "sign_image = Label(top)"
   ]
  },
  {
   "cell_type": "code",
   "execution_count": 4,
   "id": "98229f79-5c45-4465-aaef-a0f88220abaf",
   "metadata": {},
   "outputs": [
    {
     "name": "stdout",
     "output_type": "stream",
     "text": [
      "WARNING:tensorflow:From C:\\Users\\owner\\anaconda3\\Lib\\site-packages\\keras\\src\\backend.py:1398: The name tf.executing_eagerly_outside_functions is deprecated. Please use tf.compat.v1.executing_eagerly_outside_functions instead.\n",
      "\n",
      "WARNING:tensorflow:From C:\\Users\\owner\\anaconda3\\Lib\\site-packages\\keras\\src\\layers\\pooling\\max_pooling2d.py:161: The name tf.nn.max_pool is deprecated. Please use tf.nn.max_pool2d instead.\n",
      "\n",
      "WARNING:tensorflow:From C:\\Users\\owner\\anaconda3\\Lib\\site-packages\\keras\\src\\optimizers\\__init__.py:309: The name tf.train.Optimizer is deprecated. Please use tf.compat.v1.train.Optimizer instead.\n",
      "\n"
     ]
    }
   ],
   "source": [
    "facec = cv2.CascadeClassifier('haarcascade_frontface_default.xml')\n",
    "model = FacialExpressionModel(\"model_a.json\",\"model_weights.h5\")"
   ]
  },
  {
   "cell_type": "code",
   "execution_count": 5,
   "id": "45ea3e5d-bc25-4d48-b507-151a523cc250",
   "metadata": {},
   "outputs": [],
   "source": [
    "EMOTIONS_LIST = [\"Angry\",\"Disgust\",\"Fear\",\"Happy\",\"Neutral\",\"Sad\",\"Surprise\"]"
   ]
  },
  {
   "cell_type": "code",
   "execution_count": 6,
   "id": "e7cdd7d5-62ce-440a-a248-2754e8e901af",
   "metadata": {},
   "outputs": [],
   "source": [
    "def Detect(file_path):\n",
    "    global Label_packed\n",
    "\n",
    "    image = cv2.imread(file_path)\n",
    "    gray_image = cv2.cvtcolor(image,cv2.COLOR_BRG2GRAY)\n",
    "    faces = facec.detectMultiScale(gray_image,1.3,5)\n",
    "    try:\n",
    "        for (x,y,w,h) in faces:\n",
    "            fc = gray_image[y:y+h,x:x+w]\n",
    "            roi = cv2.resize(fc,(48,48))\n",
    "            pred = EMOTIONS_LIST[np.argmax(model.predict(roi[np,newaxis,:,:,np.newaxis]))]\n",
    "            print(\"Predicted Emotion is\" + pred)\n",
    "            label1.configure(foreground = \"#011638\",text = pred)\n",
    "    except:\n",
    "        label1.configure(foreground = \"#011638\",text = \"Unable to detect\")\n",
    "    "
   ]
  },
  {
   "cell_type": "code",
   "execution_count": 7,
   "id": "4e8fc2c7-2743-48f5-ba23-18a4b4b6af17",
   "metadata": {},
   "outputs": [],
   "source": [
    "def show_Detect_button(file_path):\n",
    "    detect_b = Button(top,text=\"Detect Emotion\",command= lambda: Detect(file_path),padx=10,pady=5)\n",
    "    detect_b.configure(background=\"#364126\",foreground='white',font=('arial',10,'bold'))\n",
    "    detect_b.place(relx=0.79,rely=0.46)"
   ]
  },
  {
   "cell_type": "code",
   "execution_count": 8,
   "id": "514923a4-d8ce-4b15-917d-aadf493984a3",
   "metadata": {},
   "outputs": [],
   "source": [
    "def upload_image():\n",
    "    try:\n",
    "        file_path = filledialog.askopenfilename()\n",
    "        uploaded = image.open(file_path)\n",
    "        uploaded.thumbnail(((top.winfo_width()/2.25), (top.winfo_height()/2.25)))\n",
    "\n",
    "        sign_image.configure(image=im)\n",
    "        sign_image.image = im\n",
    "        lebel1.configure(image=im)\n",
    "        show_Detect_button(file_path)\n",
    "    except:\n",
    "        pass"
   ]
  },
  {
   "cell_type": "code",
   "execution_count": null,
   "id": "bba4d0a4-be93-4707-a5bb-6cad3f139d85",
   "metadata": {},
   "outputs": [],
   "source": [
    "upload = Button(top, text=\"Upload Image\", command=upload_image, padx=10, pady=5)\n",
    "upload.configure(background=\"#364156\",foreground='white',font=('arial',20,'bold'))\n",
    "upload.pack(side='bottom',pady=50)\n",
    "sign_image.pack(side='bottom', expand='True')\n",
    "label1.pack(side='bottom',expand='True')\n",
    "heading = Label(top,text='Emotion Detector',pady=20,font=('aral',25,'bold'))\n",
    "heading.configure(background='#CDCDCD',foreground='#364156')\n",
    "heading.pack()\n",
    "top.mainloop()"
   ]
  },
  {
   "cell_type": "code",
   "execution_count": null,
   "id": "739f5527-c41b-4ff3-bc89-3e39be3bc355",
   "metadata": {},
   "outputs": [],
   "source": []
  },
  {
   "cell_type": "code",
   "execution_count": null,
   "id": "a06fb6c2-24d6-40fa-a075-d5fc086a9215",
   "metadata": {},
   "outputs": [],
   "source": []
  },
  {
   "cell_type": "code",
   "execution_count": null,
   "id": "6e91418d-7c3c-4614-bd75-7f5eabda799e",
   "metadata": {},
   "outputs": [],
   "source": []
  },
  {
   "cell_type": "code",
   "execution_count": null,
   "id": "9f7df54a-cee0-42a3-9fbe-8e76e8423ed2",
   "metadata": {},
   "outputs": [],
   "source": []
  },
  {
   "cell_type": "code",
   "execution_count": null,
   "id": "b2c05b7e-b191-4918-8cf8-a71601a4075c",
   "metadata": {},
   "outputs": [],
   "source": []
  },
  {
   "cell_type": "code",
   "execution_count": null,
   "id": "1301581e-1496-4526-ad0f-8964f563c971",
   "metadata": {},
   "outputs": [],
   "source": []
  }
 ],
 "metadata": {
  "kernelspec": {
   "display_name": "Python 3 (ipykernel)",
   "language": "python",
   "name": "python3"
  },
  "language_info": {
   "codemirror_mode": {
    "name": "ipython",
    "version": 3
   },
   "file_extension": ".py",
   "mimetype": "text/x-python",
   "name": "python",
   "nbconvert_exporter": "python",
   "pygments_lexer": "ipython3",
   "version": "3.11.7"
  }
 },
 "nbformat": 4,
 "nbformat_minor": 5
}
